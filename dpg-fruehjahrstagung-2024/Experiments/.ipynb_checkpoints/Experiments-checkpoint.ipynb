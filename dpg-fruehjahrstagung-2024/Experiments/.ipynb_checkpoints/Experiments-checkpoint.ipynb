{
 "cells": [
  {
   "cell_type": "code",
   "execution_count": 1,
   "id": "a74b6f6b-bbc1-4f52-a802-2e55558cbd4a",
   "metadata": {},
   "outputs": [
    {
     "name": "stdout",
     "output_type": "stream",
     "text": [
      "/tikhome/msauter/miniconda3/envs/znnl-gpu/bin/python3\n"
     ]
    }
   ],
   "source": [
    "!which python3"
   ]
  },
  {
   "cell_type": "code",
   "execution_count": 1,
   "id": "152e16f8-84e7-4c65-8a24-b98dbc4f450f",
   "metadata": {
    "tags": []
   },
   "outputs": [
    {
     "name": "stderr",
     "output_type": "stream",
     "text": [
      "2024-02-28 17:20:31.457955: E external/local_xla/xla/stream_executor/cuda/cuda_dnn.cc:9261] Unable to register cuDNN factory: Attempting to register factory for plugin cuDNN when one has already been registered\n",
      "2024-02-28 17:20:31.457979: E external/local_xla/xla/stream_executor/cuda/cuda_fft.cc:607] Unable to register cuFFT factory: Attempting to register factory for plugin cuFFT when one has already been registered\n",
      "2024-02-28 17:20:31.458865: E external/local_xla/xla/stream_executor/cuda/cuda_blas.cc:1515] Unable to register cuBLAS factory: Attempting to register factory for plugin cuBLAS when one has already been registered\n",
      "2024-02-28 17:20:34.383829: W tensorflow/compiler/tf2tensorrt/utils/py_utils.cc:38] TF-TRT Warning: Could not find TensorRT\n",
      "2024-02-28 17:20:41.203944: W external/xla/xla/service/gpu/nvptx_compiler.cc:742] The NVIDIA driver's CUDA version is 12.2 which is older than the ptxas CUDA version (12.3.107). Because the driver is older than the ptxas version, XLA is disabling parallel compilation, which may slow down compilation. You should update your NVIDIA driver or use the NVIDIA-provided CUDA forward compatibility packages.\n"
     ]
    },
    {
     "data": {
      "text/html": [
       "<pre style=\"white-space:pre;overflow-x:auto;line-height:normal;font-family:Menlo,'DejaVu Sans Mono',consolas,'Courier New',monospace\">Using backend: gpu\n",
       "</pre>\n"
      ],
      "text/plain": [
       "Using backend: gpu\n"
      ]
     },
     "metadata": {},
     "output_type": "display_data"
    },
    {
     "data": {
      "text/html": [
       "<pre style=\"white-space:pre;overflow-x:auto;line-height:normal;font-family:Menlo,'DejaVu Sans Mono',consolas,'Courier New',monospace\">Available hardware:\n",
       "</pre>\n"
      ],
      "text/plain": [
       "Available hardware:\n"
      ]
     },
     "metadata": {},
     "output_type": "display_data"
    },
    {
     "data": {
      "text/html": [
       "<pre style=\"white-space:pre;overflow-x:auto;line-height:normal;font-family:Menlo,'DejaVu Sans Mono',consolas,'Courier New',monospace\">cu<span style=\"color: #00ff00; text-decoration-color: #00ff00; font-weight: bold\">da:0</span>\n",
       "</pre>\n"
      ],
      "text/plain": [
       "cu\u001b[1;92mda:0\u001b[0m\n"
      ]
     },
     "metadata": {},
     "output_type": "display_data"
    }
   ],
   "source": [
    "import os\n",
    "\n",
    "#os.environ[\"CUDA_VISIBLE_DEVICES\"] = \"0\"\n",
    "\n",
    "import znnl as nl\n",
    "from neural_tangents import stax \n",
    "import optax"
   ]
  },
  {
   "cell_type": "code",
   "execution_count": 2,
   "id": "0ed469a9-2dfb-4d4c-9406-8c5f26ad18bb",
   "metadata": {
    "tags": []
   },
   "outputs": [
    {
     "data": {
      "text/plain": [
       "[cuda(id=0)]"
      ]
     },
     "execution_count": 2,
     "metadata": {},
     "output_type": "execute_result"
    }
   ],
   "source": [
    "import jax\n",
    "jax.devices()"
   ]
  },
  {
   "cell_type": "markdown",
   "id": "cebef52b-78bb-45e1-90f1-d9488961d43d",
   "metadata": {},
   "source": [
    "# Setup Experiment"
   ]
  },
  {
   "cell_type": "code",
   "execution_count": 2,
   "id": "e7adaac1-34f5-41d9-b42f-f157b1b7befc",
   "metadata": {
    "tags": []
   },
   "outputs": [],
   "source": [
    "#Training runner\n",
    "def run_training(Loss, Lossname, Epochs, Dataset_size):\n",
    "    # Making a data generator\n",
    "    data_generator = nl.data.MNISTGenerator(Dataset_size)\n",
    "    \n",
    "    #Defining a model\n",
    "    dense_network = stax.serial(\n",
    "        stax.Flatten(),\n",
    "        stax.Dense(128),\n",
    "        stax.Relu(),\n",
    "        stax.Dense(128),\n",
    "        stax.Relu(),\n",
    "        stax.Dense(10),\n",
    "    )\n",
    "\n",
    "    nt_model = nl.models.NTModel(\n",
    "        nt_module = dense_network,\n",
    "        input_shape = (1,28,28,1),\n",
    "        optimizer = optax.adam(1e-3),\n",
    "        batch_size=100,\n",
    "    )\n",
    "    \n",
    "    #Define recorders for loss ntk and ntk\n",
    "\n",
    "    r_train_recorder = nl.training_recording.JaxRecorder(\n",
    "        name=f\"r_train_recorder_{Lossname}\",\n",
    "        loss=True,\n",
    "        accuracy=True,\n",
    "        entropy=True,\n",
    "        eigenvalues=True,\n",
    "        trace=True,\n",
    "        covariance_entropy=True,\n",
    "        magnitude_variance=True,\n",
    "\n",
    "        use_loss_ntk = False,\n",
    "\n",
    "        update_rate=1, \n",
    "        chunk_size=100\n",
    "        )\n",
    "\n",
    "    l_train_recorder = nl.training_recording.JaxRecorder(\n",
    "        name=f\"l_train_recorder_{Lossname}\",\n",
    "        loss=True,\n",
    "        accuracy=True,\n",
    "        entropy=True,\n",
    "        eigenvalues=True,\n",
    "        trace=True,\n",
    "        covariance_entropy=True,\n",
    "        magnitude_variance=True,\n",
    "\n",
    "        use_loss_ntk = True,\n",
    "\n",
    "        update_rate=1, \n",
    "        chunk_size=100\n",
    "        )\n",
    "\n",
    "    test_recorder = nl.training_recording.JaxRecorder(\n",
    "        name=f\"test_recorder_{Lossname}\",\n",
    "        loss=True,\n",
    "        accuracy=True,\n",
    "        update_rate=1,\n",
    "        chunk_size=100,\n",
    "    )\n",
    "\n",
    "    r_train_recorder.instantiate_recorder(data_set = data_generator.train_ds)\n",
    "    l_train_recorder.instantiate_recorder(data_set = data_generator.train_ds)\n",
    "    test_recorder.instantiate_recorder(data_set = data_generator.test_ds)\n",
    "\n",
    "    training_strategy = nl.training_strategies.SimpleTraining(\n",
    "        model=nt_model,\n",
    "        loss_fn=Loss,\n",
    "        recorders=[r_train_recorder,l_train_recorder,test_recorder])\n",
    "    \n",
    "    #running the model for the wanted epochs\n",
    "    batched_training_metrics = training_strategy.train_model(\n",
    "        train_ds={\"inputs\": data_generator.train_ds[\"inputs\"], \"targets\": data_generator.train_ds[\"targets\"]},\n",
    "        test_ds={\"inputs\": data_generator.test_ds[\"inputs\"], \"targets\": data_generator.test_ds[\"targets\"]},\n",
    "        batch_size=10,\n",
    "        epochs=Epochs,\n",
    "    )\n",
    "    \n",
    "    #Dumping records\n",
    "    r_train_recorder.dump_records()\n",
    "    l_train_recorder.dump_records()\n",
    "    test_recorder.dump_records()"
   ]
  },
  {
   "cell_type": "markdown",
   "id": "11f551b2-035c-4dba-91df-d09a649bd41e",
   "metadata": {},
   "source": [
    "# Run experiments"
   ]
  },
  {
   "cell_type": "code",
   "execution_count": null,
   "id": "16cb0b35-d22c-4501-9607-69e3144c7e6b",
   "metadata": {
    "tags": []
   },
   "outputs": [
    {
     "name": "stderr",
     "output_type": "stream",
     "text": [
      "Epoch: 56:  11%|███▍                           | 56/500 [01:06<07:29,  1.01s/batch, test_loss=0.398]"
     ]
    }
   ],
   "source": [
    "from znnl import loss_functions\n",
    "\n",
    "losses = [loss_functions.CrossEntropyLoss()]#, loss_functions.LPNormLoss(order=2), loss_functions.MeanPowerLoss(order=4)]\n",
    "lossnames = [\"CrossEntropy\"]#, \"LPNorm2\", \"MeanPowerLoss4\"]\n",
    "\n",
    "for i, loss in enumerate(losses):\n",
    "    run_training(Loss = loss,\n",
    "                Lossname= lossnames[i],\n",
    "                Epochs = 500,\n",
    "                Dataset_size = 500)"
   ]
  },
  {
   "cell_type": "markdown",
   "id": "732971d8-1018-441c-a435-a5ca302c3a5f",
   "metadata": {},
   "source": [
    "# Analyze Experiments"
   ]
  },
  {
   "cell_type": "code",
   "execution_count": 12,
   "id": "0580f2f0-0ee2-4c5d-ac0d-b1dc86b56e0e",
   "metadata": {},
   "outputs": [
    {
     "name": "stdout",
     "output_type": "stream",
     "text": [
      "Loading CrossEntropy...\n"
     ]
    }
   ],
   "source": [
    "#load data \n",
    "lossnames = [\"CrossEntropy\"]#, \"LPNorm2\", \"MeanPowerLoss4\"]\n",
    "recordernames = [\"l_train_recorder_\", \"r_train_recorder_\", \"test_recorder_\"]\n",
    "recorders = dict()\n",
    "reports = dict()\n",
    "\n",
    "for lossname in lossnames:\n",
    "    print(\"Loading \"+lossname+\"...\")\n",
    "    for recordername in recordernames:\n",
    "        recorders[recordername+lossname] = nl.training_recording.DataStorage(recordername+lossname)\n",
    "        if recordername[:4] == \"test\":\n",
    "            reports[recordername+lossname] = recorders[recordername+lossname].fetch_data([\"loss\"])\n",
    "        else:\n",
    "            reports[recordername+lossname] = recorders[recordername+lossname].fetch_data([\"loss\",\"eigenvalues\",\"entropy\",\"covariance_entropy\"])\n",
    "\n",
    "\n"
   ]
  },
  {
   "cell_type": "code",
   "execution_count": 13,
   "id": "abfcc91e-bec7-4d43-b2b6-bd2939fb5138",
   "metadata": {},
   "outputs": [
    {
     "data": {
      "image/png": "[encoded data removed]",
      "text/plain": [
       "<Figure size 640x480 with 1 Axes>"
      ]
     },
     "metadata": {},
     "output_type": "display_data"
    }
   ],
   "source": [
    "#Check that all models trained properly\n",
    "\n",
    "\n",
    "import matplotlib.pyplot as plt\n",
    "import numpy as np\n",
    "\n",
    "for lossname in lossnames:\n",
    "    plt.plot(reports[\"r_train_recorder_\"+lossname][\"loss\"], label=lossname)\n",
    "    plt.legend()\n",
    "    plt.show()\n"
   ]
  },
  {
   "cell_type": "code",
   "execution_count": null,
   "id": "7342751a-8da1-463d-bc51-20abe6b44861",
   "metadata": {},
   "outputs": [],
   "source": []
  }
 ],
 "metadata": {
  "kernelspec": {
   "display_name": "Python 3 (ipykernel)",
   "language": "python",
   "name": "python3"
  },
  "language_info": {
   "codemirror_mode": {
    "name": "ipython",
    "version": 3
   },
   "file_extension": ".py",
   "mimetype": "text/x-python",
   "name": "python",
   "nbconvert_exporter": "python",
   "pygments_lexer": "ipython3",
   "version": "3.11.8"
  }
 },
 "nbformat": 4,
 "nbformat_minor": 5
}
