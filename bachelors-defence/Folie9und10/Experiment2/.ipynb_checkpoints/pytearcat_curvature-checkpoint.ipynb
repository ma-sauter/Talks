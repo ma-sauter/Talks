{
 "cells": [
  {
   "cell_type": "code",
   "execution_count": null,
   "id": "85511275-437e-4df6-b755-5959eadab68f",
   "metadata": {},
   "outputs": [],
   "source": [
    "from sympy import symbols, diag, Function, sin, cos, exp, pprint\n",
    "from einsteinpy.symbolic import (\n",
    "    MetricTensor,\n",
    "    RicciScalar,\n",
    "    RicciTensor,\n",
    "    ChristoffelSymbols,\n",
    "    RiemannCurvatureTensor,\n",
    ")\n",
    "from einsteinpy.symbolic.predefined import Schwarzschild\n",
    "\n",
    "from sympy import init_printing\n",
    "init_printing(use_latex=True)"
   ]
  },
  {
   "cell_type": "code",
   "execution_count": 4,
   "id": "f845e3ca-a9d9-4bd8-9885-1247692d5840",
   "metadata": {},
   "outputs": [
    {
     "name": "stdout",
     "output_type": "stream",
     "text": [
      "0\n"
     ]
    }
   ],
   "source": [
    "# Define the symbols\n",
    "t, r, theta, phi = symbols(\"t r theta phi\")\n",
    "\n",
    "# Define the function\n",
    "f = Function(\"f\")(r)\n",
    "\n",
    "# Define the metric for a static spherical symmetric spacetime\n",
    "metric = diag(exp(r), 1).tolist()\n",
    "\n",
    "# Create the metric tensor\n",
    "m_obj = MetricTensor(metric, (t, r))\n",
    "m_obj = Schwarzschild()\n",
    "\n",
    "# Calculate Christoffel Symbols\n",
    "Christ = ChristoffelSymbols.from_metric(m_obj)\n",
    "\n",
    "# Calculate Riemannian tensor\n",
    "Riem = RiemannCurvatureTensor.from_metric(m_obj)\n",
    "\n",
    "\n",
    "# Calculate Ricci Tensor\n",
    "Ric = RicciTensor.from_metric(m_obj)\n",
    "\n",
    "\n",
    "# Calculate the Ricci scalar\n",
    "rsc = RicciScalar.from_metric(m_obj)\n",
    "ricci_scalar = rsc.expr\n",
    "\n",
    "print(ricci_scalar)\n"
   ]
  },
  {
   "cell_type": "code",
   "execution_count": null,
   "id": "b4081116-010a-4d8d-8aa6-825dbae4a6c7",
   "metadata": {},
   "outputs": [],
   "source": []
  }
 ],
 "metadata": {
  "kernelspec": {
   "display_name": "Python 3 (ipykernel)",
   "language": "python",
   "name": "python3"
  },
  "language_info": {
   "codemirror_mode": {
    "name": "ipython",
    "version": 3
   },
   "file_extension": ".py",
   "mimetype": "text/x-python",
   "name": "python",
   "nbconvert_exporter": "python",
   "pygments_lexer": "ipython3",
   "version": "3.10.7"
  }
 },
 "nbformat": 4,
 "nbformat_minor": 5
}
